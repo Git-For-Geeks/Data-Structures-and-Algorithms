{
  "nbformat": 4,
  "nbformat_minor": 0,
  "metadata": {
    "colab": {
      "provenance": []
    },
    "kernelspec": {
      "name": "python3",
      "display_name": "Python 3"
    },
    "language_info": {
      "name": "python"
    }
  },
  "cells": [
    {
      "cell_type": "code",
      "execution_count": 1,
      "metadata": {
        "colab": {
          "base_uri": "https://localhost:8080/"
        },
        "id": "he9sE7hGfK4e",
        "outputId": "6f262416-2935-40ab-f73c-f189d4e7a594"
      },
      "outputs": [
        {
          "output_type": "stream",
          "name": "stdout",
          "text": [
            "6\n",
            "10 2 3 5 4 2\n",
            "3\n"
          ]
        }
      ],
      "source": [
        "n = int(input())\n",
        "a = list(map(int, input().split()))\n",
        "c = 0\n",
        "while a:\n",
        "    mn = min(a)\n",
        "    a = [i for i in a if i % mn != 0]\n",
        "    c += 1\n",
        " \n",
        "print(c)"
      ]
    }
  ]
}