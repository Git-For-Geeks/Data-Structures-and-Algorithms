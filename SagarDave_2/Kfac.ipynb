{
  "nbformat": 4,
  "nbformat_minor": 0,
  "metadata": {
    "colab": {
      "provenance": []
    },
    "kernelspec": {
      "name": "python3",
      "display_name": "Python 3"
    },
    "language_info": {
      "name": "python"
    }
  },
  "cells": [
    {
      "cell_type": "code",
      "execution_count": 1,
      "metadata": {
        "colab": {
          "base_uri": "https://localhost:8080/"
        },
        "id": "MBvYYUlAcmip",
        "outputId": "d5b60700-d6a4-4746-b1b3-4a9ed3778a88"
      },
      "outputs": [
        {
          "output_type": "stream",
          "name": "stdout",
          "text": [
            "100000 2\n",
            "2 50000\n"
          ]
        }
      ],
      "source": [
        "n, k = map(int, input().split())\n",
        "D = []\n",
        " \n",
        "for d in range(2, int(n**.5)+1):\n",
        "    while k>1 and n%d==0:\n",
        "        n //= d\n",
        "        D.append(d)\n",
        "        k -= 1\n",
        " \n",
        "if k>1 or n==1:\n",
        "    print(-1)\n",
        "else:\n",
        "    print(*D, n)"
      ]
    }
  ]
}