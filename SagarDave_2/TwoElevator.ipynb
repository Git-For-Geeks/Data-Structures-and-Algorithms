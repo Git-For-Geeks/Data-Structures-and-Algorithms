{
  "nbformat": 4,
  "nbformat_minor": 0,
  "metadata": {
    "colab": {
      "provenance": [],
      "collapsed_sections": []
    },
    "kernelspec": {
      "name": "python3",
      "display_name": "Python 3"
    },
    "language_info": {
      "name": "python"
    }
  },
  "cells": [
    {
      "cell_type": "code",
      "execution_count": 2,
      "metadata": {
        "colab": {
          "base_uri": "https://localhost:8080/"
        },
        "id": "KW4Pj_1NbTWK",
        "outputId": "cac08ef8-95ff-49e3-b647-8932ec3b7d2b"
      },
      "outputs": [
        {
          "output_type": "stream",
          "name": "stdout",
          "text": [
            "1\n",
            "3 2 1\n",
            "2\n"
          ]
        }
      ],
      "source": [
        "for i in range(int(input())): #Integer input \n",
        " a,b,c=map(int,input().split()) #Taking integer input and spliting the inputs using split()\n",
        " if a==c+abs(c-b):     #elif conditions/Logic \n",
        "  print(3)\n",
        " elif a>c+abs(c-b):\n",
        "  print(2)\n",
        " else:\n",
        "  print(1)"
      ]
    }
  ]
}