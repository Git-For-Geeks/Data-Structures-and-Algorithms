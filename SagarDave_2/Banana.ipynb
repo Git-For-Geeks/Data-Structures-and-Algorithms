{
  "nbformat": 4,
  "nbformat_minor": 0,
  "metadata": {
    "colab": {
      "provenance": []
    },
    "kernelspec": {
      "name": "python3",
      "display_name": "Python 3"
    },
    "language_info": {
      "name": "python"
    }
  },
  "cells": [
    {
      "cell_type": "code",
      "execution_count": 4,
      "metadata": {
        "colab": {
          "base_uri": "https://localhost:8080/"
        },
        "id": "OA6pv5pHauxW",
        "outputId": "3680d3fc-2702-45d0-b3c7-b632b467cc6b"
      },
      "outputs": [
        {
          "output_type": "stream",
          "name": "stdout",
          "text": [
            "banana\n",
            "4\n",
            "2\n",
            "baan\n"
          ]
        }
      ],
      "source": [
        "s = input()\n",
        "n = int(input())\n",
        "import math\n",
        "my_dict = {}\n",
        "for l in s:\n",
        "    if l in my_dict:\n",
        "        my_dict[l] += 1\n",
        "    else:\n",
        "        my_dict[l] = 1\n",
        "for i in range(1, 2000):\n",
        "    count = 0\n",
        "    for key, num in my_dict.items():\n",
        "        count += (num + i - 1) // i\n",
        "    if count <= n:\n",
        "        print(i)\n",
        "        s = ''\n",
        "        for key, num in my_dict.items():\n",
        "            s += key * ((num + i - 1) // i)\n",
        "        if len(s) < n:\n",
        "            s += 'a' * (n - len(s))\n",
        "        print(s)\n",
        "        break\n",
        "else:\n",
        "    print(-1)"
      ]
    }
  ]
}