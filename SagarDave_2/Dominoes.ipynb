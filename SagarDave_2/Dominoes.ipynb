{
  "nbformat": 4,
  "nbformat_minor": 0,
  "metadata": {
    "colab": {
      "provenance": []
    },
    "kernelspec": {
      "name": "python3",
      "display_name": "Python 3"
    },
    "language_info": {
      "name": "python"
    }
  },
  "cells": [
    {
      "cell_type": "code",
      "execution_count": 1,
      "metadata": {
        "colab": {
          "base_uri": "https://localhost:8080/"
        },
        "id": "NDk2Bxw6Y4zm",
        "outputId": "b28d55c9-2735-4d21-fbeb-ea6baeee1c5d"
      },
      "outputs": [
        {
          "output_type": "stream",
          "name": "stdout",
          "text": [
            "3 4\n",
            "9\n"
          ]
        }
      ],
      "source": [
        "n,m=map(int,input().split())\n",
        "print(max(n-1, n*(m-1)))\n"
      ]
    },
    {
      "cell_type": "code",
      "source": [],
      "metadata": {
        "id": "6RNqLrUXY9fm"
      },
      "execution_count": null,
      "outputs": []
    }
  ]
}